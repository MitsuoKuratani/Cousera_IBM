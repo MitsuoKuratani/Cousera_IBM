{
 "cells": [
  {
   "cell_type": "code",
   "execution_count": 1,
   "metadata": {},
   "outputs": [],
   "source": [
    "import pandas as pd"
   ]
  },
  {
   "cell_type": "markdown",
   "metadata": {},
   "source": [
    "### Scrape the postalcode table from wikipedia "
   ]
  },
  {
   "cell_type": "code",
   "execution_count": 2,
   "metadata": {},
   "outputs": [],
   "source": [
    "df_postal = pd.io.html.read_html(\"https://en.wikipedia.org/wiki/List_of_postal_codes_of_Canada:_M\")"
   ]
  },
  {
   "cell_type": "code",
   "execution_count": 3,
   "metadata": {},
   "outputs": [
    {
     "data": {
      "text/html": [
       "<div>\n",
       "<style scoped>\n",
       "    .dataframe tbody tr th:only-of-type {\n",
       "        vertical-align: middle;\n",
       "    }\n",
       "\n",
       "    .dataframe tbody tr th {\n",
       "        vertical-align: top;\n",
       "    }\n",
       "\n",
       "    .dataframe thead th {\n",
       "        text-align: right;\n",
       "    }\n",
       "</style>\n",
       "<table border=\"1\" class=\"dataframe\">\n",
       "  <thead>\n",
       "    <tr style=\"text-align: right;\">\n",
       "      <th></th>\n",
       "      <th>Postcode</th>\n",
       "      <th>Borough</th>\n",
       "      <th>Neighborhood</th>\n",
       "    </tr>\n",
       "  </thead>\n",
       "  <tbody>\n",
       "    <tr>\n",
       "      <td>0</td>\n",
       "      <td>M1A</td>\n",
       "      <td>Not assigned</td>\n",
       "      <td>Not assigned</td>\n",
       "    </tr>\n",
       "    <tr>\n",
       "      <td>1</td>\n",
       "      <td>M2A</td>\n",
       "      <td>Not assigned</td>\n",
       "      <td>Not assigned</td>\n",
       "    </tr>\n",
       "    <tr>\n",
       "      <td>2</td>\n",
       "      <td>M3A</td>\n",
       "      <td>North York</td>\n",
       "      <td>Parkwoods</td>\n",
       "    </tr>\n",
       "    <tr>\n",
       "      <td>3</td>\n",
       "      <td>M4A</td>\n",
       "      <td>North York</td>\n",
       "      <td>Victoria Village</td>\n",
       "    </tr>\n",
       "    <tr>\n",
       "      <td>4</td>\n",
       "      <td>M5A</td>\n",
       "      <td>Downtown Toronto</td>\n",
       "      <td>Harbourfront</td>\n",
       "    </tr>\n",
       "    <tr>\n",
       "      <td>...</td>\n",
       "      <td>...</td>\n",
       "      <td>...</td>\n",
       "      <td>...</td>\n",
       "    </tr>\n",
       "    <tr>\n",
       "      <td>282</td>\n",
       "      <td>M8Z</td>\n",
       "      <td>Etobicoke</td>\n",
       "      <td>Mimico NW</td>\n",
       "    </tr>\n",
       "    <tr>\n",
       "      <td>283</td>\n",
       "      <td>M8Z</td>\n",
       "      <td>Etobicoke</td>\n",
       "      <td>The Queensway West</td>\n",
       "    </tr>\n",
       "    <tr>\n",
       "      <td>284</td>\n",
       "      <td>M8Z</td>\n",
       "      <td>Etobicoke</td>\n",
       "      <td>Royal York South West</td>\n",
       "    </tr>\n",
       "    <tr>\n",
       "      <td>285</td>\n",
       "      <td>M8Z</td>\n",
       "      <td>Etobicoke</td>\n",
       "      <td>South of Bloor</td>\n",
       "    </tr>\n",
       "    <tr>\n",
       "      <td>286</td>\n",
       "      <td>M9Z</td>\n",
       "      <td>Not assigned</td>\n",
       "      <td>Not assigned</td>\n",
       "    </tr>\n",
       "  </tbody>\n",
       "</table>\n",
       "<p>287 rows × 3 columns</p>\n",
       "</div>"
      ],
      "text/plain": [
       "    Postcode           Borough           Neighborhood\n",
       "0        M1A      Not assigned           Not assigned\n",
       "1        M2A      Not assigned           Not assigned\n",
       "2        M3A        North York              Parkwoods\n",
       "3        M4A        North York       Victoria Village\n",
       "4        M5A  Downtown Toronto           Harbourfront\n",
       "..       ...               ...                    ...\n",
       "282      M8Z         Etobicoke              Mimico NW\n",
       "283      M8Z         Etobicoke     The Queensway West\n",
       "284      M8Z         Etobicoke  Royal York South West\n",
       "285      M8Z         Etobicoke         South of Bloor\n",
       "286      M9Z      Not assigned           Not assigned\n",
       "\n",
       "[287 rows x 3 columns]"
      ]
     },
     "execution_count": 3,
     "metadata": {},
     "output_type": "execute_result"
    }
   ],
   "source": [
    "df_postal[0]"
   ]
  },
  {
   "cell_type": "markdown",
   "metadata": {},
   "source": [
    "The postal code table was successfully fetched"
   ]
  },
  {
   "cell_type": "code",
   "execution_count": 4,
   "metadata": {},
   "outputs": [],
   "source": [
    "df = df_postal[0]"
   ]
  },
  {
   "cell_type": "markdown",
   "metadata": {},
   "source": [
    "### Delete rows of which Borough contain 'Not assigned'"
   ]
  },
  {
   "cell_type": "code",
   "execution_count": 5,
   "metadata": {},
   "outputs": [
    {
     "data": {
      "text/html": [
       "<div>\n",
       "<style scoped>\n",
       "    .dataframe tbody tr th:only-of-type {\n",
       "        vertical-align: middle;\n",
       "    }\n",
       "\n",
       "    .dataframe tbody tr th {\n",
       "        vertical-align: top;\n",
       "    }\n",
       "\n",
       "    .dataframe thead th {\n",
       "        text-align: right;\n",
       "    }\n",
       "</style>\n",
       "<table border=\"1\" class=\"dataframe\">\n",
       "  <thead>\n",
       "    <tr style=\"text-align: right;\">\n",
       "      <th></th>\n",
       "      <th>Postcode</th>\n",
       "      <th>Borough</th>\n",
       "      <th>Neighborhood</th>\n",
       "    </tr>\n",
       "  </thead>\n",
       "  <tbody>\n",
       "    <tr>\n",
       "      <td>2</td>\n",
       "      <td>M3A</td>\n",
       "      <td>North York</td>\n",
       "      <td>Parkwoods</td>\n",
       "    </tr>\n",
       "    <tr>\n",
       "      <td>3</td>\n",
       "      <td>M4A</td>\n",
       "      <td>North York</td>\n",
       "      <td>Victoria Village</td>\n",
       "    </tr>\n",
       "    <tr>\n",
       "      <td>4</td>\n",
       "      <td>M5A</td>\n",
       "      <td>Downtown Toronto</td>\n",
       "      <td>Harbourfront</td>\n",
       "    </tr>\n",
       "    <tr>\n",
       "      <td>5</td>\n",
       "      <td>M6A</td>\n",
       "      <td>North York</td>\n",
       "      <td>Lawrence Heights</td>\n",
       "    </tr>\n",
       "    <tr>\n",
       "      <td>6</td>\n",
       "      <td>M6A</td>\n",
       "      <td>North York</td>\n",
       "      <td>Lawrence Manor</td>\n",
       "    </tr>\n",
       "    <tr>\n",
       "      <td>...</td>\n",
       "      <td>...</td>\n",
       "      <td>...</td>\n",
       "      <td>...</td>\n",
       "    </tr>\n",
       "    <tr>\n",
       "      <td>281</td>\n",
       "      <td>M8Z</td>\n",
       "      <td>Etobicoke</td>\n",
       "      <td>Kingsway Park South West</td>\n",
       "    </tr>\n",
       "    <tr>\n",
       "      <td>282</td>\n",
       "      <td>M8Z</td>\n",
       "      <td>Etobicoke</td>\n",
       "      <td>Mimico NW</td>\n",
       "    </tr>\n",
       "    <tr>\n",
       "      <td>283</td>\n",
       "      <td>M8Z</td>\n",
       "      <td>Etobicoke</td>\n",
       "      <td>The Queensway West</td>\n",
       "    </tr>\n",
       "    <tr>\n",
       "      <td>284</td>\n",
       "      <td>M8Z</td>\n",
       "      <td>Etobicoke</td>\n",
       "      <td>Royal York South West</td>\n",
       "    </tr>\n",
       "    <tr>\n",
       "      <td>285</td>\n",
       "      <td>M8Z</td>\n",
       "      <td>Etobicoke</td>\n",
       "      <td>South of Bloor</td>\n",
       "    </tr>\n",
       "  </tbody>\n",
       "</table>\n",
       "<p>210 rows × 3 columns</p>\n",
       "</div>"
      ],
      "text/plain": [
       "    Postcode           Borough              Neighborhood\n",
       "2        M3A        North York                 Parkwoods\n",
       "3        M4A        North York          Victoria Village\n",
       "4        M5A  Downtown Toronto              Harbourfront\n",
       "5        M6A        North York          Lawrence Heights\n",
       "6        M6A        North York            Lawrence Manor\n",
       "..       ...               ...                       ...\n",
       "281      M8Z         Etobicoke  Kingsway Park South West\n",
       "282      M8Z         Etobicoke                 Mimico NW\n",
       "283      M8Z         Etobicoke        The Queensway West\n",
       "284      M8Z         Etobicoke     Royal York South West\n",
       "285      M8Z         Etobicoke            South of Bloor\n",
       "\n",
       "[210 rows x 3 columns]"
      ]
     },
     "execution_count": 5,
     "metadata": {},
     "output_type": "execute_result"
    }
   ],
   "source": [
    "df1 = df[df[\"Borough\"] != 'Not assigned']\n",
    "df1"
   ]
  },
  {
   "cell_type": "markdown",
   "metadata": {},
   "source": [
    "### The rows with same \"Postcode\" as well as \"Borough\", are merged.    \n",
    "#### The neighborhood was contatenated by \",\" in df2_N, and the duplicated Borough was deleted in df2_B."
   ]
  },
  {
   "cell_type": "code",
   "execution_count": 6,
   "metadata": {},
   "outputs": [],
   "source": [
    "df2_N = df1.groupby('Postcode').agg({'Neighborhood': lambda x:','.join(x)})"
   ]
  },
  {
   "cell_type": "code",
   "execution_count": 7,
   "metadata": {},
   "outputs": [],
   "source": [
    "df2_B = df1.drop('Neighborhood', axis=1).drop_duplicates()"
   ]
  },
  {
   "cell_type": "code",
   "execution_count": 8,
   "metadata": {},
   "outputs": [
    {
     "data": {
      "text/html": [
       "<div>\n",
       "<style scoped>\n",
       "    .dataframe tbody tr th:only-of-type {\n",
       "        vertical-align: middle;\n",
       "    }\n",
       "\n",
       "    .dataframe tbody tr th {\n",
       "        vertical-align: top;\n",
       "    }\n",
       "\n",
       "    .dataframe thead th {\n",
       "        text-align: right;\n",
       "    }\n",
       "</style>\n",
       "<table border=\"1\" class=\"dataframe\">\n",
       "  <thead>\n",
       "    <tr style=\"text-align: right;\">\n",
       "      <th></th>\n",
       "      <th>Postcode</th>\n",
       "      <th>Borough</th>\n",
       "      <th>Neighborhood</th>\n",
       "    </tr>\n",
       "  </thead>\n",
       "  <tbody>\n",
       "    <tr>\n",
       "      <td>0</td>\n",
       "      <td>M3A</td>\n",
       "      <td>North York</td>\n",
       "      <td>Parkwoods</td>\n",
       "    </tr>\n",
       "    <tr>\n",
       "      <td>1</td>\n",
       "      <td>M4A</td>\n",
       "      <td>North York</td>\n",
       "      <td>Victoria Village</td>\n",
       "    </tr>\n",
       "    <tr>\n",
       "      <td>2</td>\n",
       "      <td>M5A</td>\n",
       "      <td>Downtown Toronto</td>\n",
       "      <td>Harbourfront</td>\n",
       "    </tr>\n",
       "    <tr>\n",
       "      <td>3</td>\n",
       "      <td>M6A</td>\n",
       "      <td>North York</td>\n",
       "      <td>Lawrence Heights,Lawrence Manor</td>\n",
       "    </tr>\n",
       "    <tr>\n",
       "      <td>4</td>\n",
       "      <td>M7A</td>\n",
       "      <td>Queen's Park</td>\n",
       "      <td>Not assigned</td>\n",
       "    </tr>\n",
       "    <tr>\n",
       "      <td>...</td>\n",
       "      <td>...</td>\n",
       "      <td>...</td>\n",
       "      <td>...</td>\n",
       "    </tr>\n",
       "    <tr>\n",
       "      <td>98</td>\n",
       "      <td>M8X</td>\n",
       "      <td>Etobicoke</td>\n",
       "      <td>The Kingsway,Montgomery Road,Old Mill North</td>\n",
       "    </tr>\n",
       "    <tr>\n",
       "      <td>99</td>\n",
       "      <td>M4Y</td>\n",
       "      <td>Downtown Toronto</td>\n",
       "      <td>Church and Wellesley</td>\n",
       "    </tr>\n",
       "    <tr>\n",
       "      <td>100</td>\n",
       "      <td>M7Y</td>\n",
       "      <td>East Toronto</td>\n",
       "      <td>Business Reply Mail Processing Centre 969 Eastern</td>\n",
       "    </tr>\n",
       "    <tr>\n",
       "      <td>101</td>\n",
       "      <td>M8Y</td>\n",
       "      <td>Etobicoke</td>\n",
       "      <td>Humber Bay,King's Mill Park,Kingsway Park Sout...</td>\n",
       "    </tr>\n",
       "    <tr>\n",
       "      <td>102</td>\n",
       "      <td>M8Z</td>\n",
       "      <td>Etobicoke</td>\n",
       "      <td>Kingsway Park South West,Mimico NW,The Queensw...</td>\n",
       "    </tr>\n",
       "  </tbody>\n",
       "</table>\n",
       "<p>103 rows × 3 columns</p>\n",
       "</div>"
      ],
      "text/plain": [
       "    Postcode           Borough  \\\n",
       "0        M3A        North York   \n",
       "1        M4A        North York   \n",
       "2        M5A  Downtown Toronto   \n",
       "3        M6A        North York   \n",
       "4        M7A      Queen's Park   \n",
       "..       ...               ...   \n",
       "98       M8X         Etobicoke   \n",
       "99       M4Y  Downtown Toronto   \n",
       "100      M7Y      East Toronto   \n",
       "101      M8Y         Etobicoke   \n",
       "102      M8Z         Etobicoke   \n",
       "\n",
       "                                          Neighborhood  \n",
       "0                                            Parkwoods  \n",
       "1                                     Victoria Village  \n",
       "2                                         Harbourfront  \n",
       "3                      Lawrence Heights,Lawrence Manor  \n",
       "4                                         Not assigned  \n",
       "..                                                 ...  \n",
       "98         The Kingsway,Montgomery Road,Old Mill North  \n",
       "99                                Church and Wellesley  \n",
       "100  Business Reply Mail Processing Centre 969 Eastern  \n",
       "101  Humber Bay,King's Mill Park,Kingsway Park Sout...  \n",
       "102  Kingsway Park South West,Mimico NW,The Queensw...  \n",
       "\n",
       "[103 rows x 3 columns]"
      ]
     },
     "execution_count": 8,
     "metadata": {},
     "output_type": "execute_result"
    }
   ],
   "source": [
    "df3 = pd.merge(df2_B, df2_N, on='Postcode')\n",
    "df3"
   ]
  },
  {
   "cell_type": "markdown",
   "metadata": {},
   "source": [
    "### How many 'Not assigned' are there in Neighborhood column ?"
   ]
  },
  {
   "cell_type": "code",
   "execution_count": 9,
   "metadata": {},
   "outputs": [
    {
     "data": {
      "text/plain": [
       "1"
      ]
     },
     "execution_count": 9,
     "metadata": {},
     "output_type": "execute_result"
    }
   ],
   "source": [
    "df3['Neighborhood'].value_counts()['Not assigned']"
   ]
  },
  {
   "cell_type": "code",
   "execution_count": 10,
   "metadata": {},
   "outputs": [
    {
     "data": {
      "text/html": [
       "<div>\n",
       "<style scoped>\n",
       "    .dataframe tbody tr th:only-of-type {\n",
       "        vertical-align: middle;\n",
       "    }\n",
       "\n",
       "    .dataframe tbody tr th {\n",
       "        vertical-align: top;\n",
       "    }\n",
       "\n",
       "    .dataframe thead th {\n",
       "        text-align: right;\n",
       "    }\n",
       "</style>\n",
       "<table border=\"1\" class=\"dataframe\">\n",
       "  <thead>\n",
       "    <tr style=\"text-align: right;\">\n",
       "      <th></th>\n",
       "      <th>Postcode</th>\n",
       "      <th>Borough</th>\n",
       "      <th>Neighborhood</th>\n",
       "    </tr>\n",
       "  </thead>\n",
       "  <tbody>\n",
       "    <tr>\n",
       "      <td>0</td>\n",
       "      <td>M3A</td>\n",
       "      <td>North York</td>\n",
       "      <td>Parkwoods</td>\n",
       "    </tr>\n",
       "    <tr>\n",
       "      <td>1</td>\n",
       "      <td>M4A</td>\n",
       "      <td>North York</td>\n",
       "      <td>Victoria Village</td>\n",
       "    </tr>\n",
       "    <tr>\n",
       "      <td>2</td>\n",
       "      <td>M5A</td>\n",
       "      <td>Downtown Toronto</td>\n",
       "      <td>Harbourfront</td>\n",
       "    </tr>\n",
       "    <tr>\n",
       "      <td>3</td>\n",
       "      <td>M6A</td>\n",
       "      <td>North York</td>\n",
       "      <td>Lawrence Heights,Lawrence Manor</td>\n",
       "    </tr>\n",
       "    <tr>\n",
       "      <td>4</td>\n",
       "      <td>M7A</td>\n",
       "      <td>Queen's Park</td>\n",
       "      <td>Queen's Park</td>\n",
       "    </tr>\n",
       "    <tr>\n",
       "      <td>...</td>\n",
       "      <td>...</td>\n",
       "      <td>...</td>\n",
       "      <td>...</td>\n",
       "    </tr>\n",
       "    <tr>\n",
       "      <td>98</td>\n",
       "      <td>M8X</td>\n",
       "      <td>Etobicoke</td>\n",
       "      <td>The Kingsway,Montgomery Road,Old Mill North</td>\n",
       "    </tr>\n",
       "    <tr>\n",
       "      <td>99</td>\n",
       "      <td>M4Y</td>\n",
       "      <td>Downtown Toronto</td>\n",
       "      <td>Church and Wellesley</td>\n",
       "    </tr>\n",
       "    <tr>\n",
       "      <td>100</td>\n",
       "      <td>M7Y</td>\n",
       "      <td>East Toronto</td>\n",
       "      <td>Business Reply Mail Processing Centre 969 Eastern</td>\n",
       "    </tr>\n",
       "    <tr>\n",
       "      <td>101</td>\n",
       "      <td>M8Y</td>\n",
       "      <td>Etobicoke</td>\n",
       "      <td>Humber Bay,King's Mill Park,Kingsway Park Sout...</td>\n",
       "    </tr>\n",
       "    <tr>\n",
       "      <td>102</td>\n",
       "      <td>M8Z</td>\n",
       "      <td>Etobicoke</td>\n",
       "      <td>Kingsway Park South West,Mimico NW,The Queensw...</td>\n",
       "    </tr>\n",
       "  </tbody>\n",
       "</table>\n",
       "<p>103 rows × 3 columns</p>\n",
       "</div>"
      ],
      "text/plain": [
       "    Postcode           Borough  \\\n",
       "0        M3A        North York   \n",
       "1        M4A        North York   \n",
       "2        M5A  Downtown Toronto   \n",
       "3        M6A        North York   \n",
       "4        M7A      Queen's Park   \n",
       "..       ...               ...   \n",
       "98       M8X         Etobicoke   \n",
       "99       M4Y  Downtown Toronto   \n",
       "100      M7Y      East Toronto   \n",
       "101      M8Y         Etobicoke   \n",
       "102      M8Z         Etobicoke   \n",
       "\n",
       "                                          Neighborhood  \n",
       "0                                            Parkwoods  \n",
       "1                                     Victoria Village  \n",
       "2                                         Harbourfront  \n",
       "3                      Lawrence Heights,Lawrence Manor  \n",
       "4                                         Queen's Park  \n",
       "..                                                 ...  \n",
       "98         The Kingsway,Montgomery Road,Old Mill North  \n",
       "99                                Church and Wellesley  \n",
       "100  Business Reply Mail Processing Centre 969 Eastern  \n",
       "101  Humber Bay,King's Mill Park,Kingsway Park Sout...  \n",
       "102  Kingsway Park South West,Mimico NW,The Queensw...  \n",
       "\n",
       "[103 rows x 3 columns]"
      ]
     },
     "execution_count": 10,
     "metadata": {},
     "output_type": "execute_result"
    }
   ],
   "source": [
    "df4 = df3.replace({\"Neighborhood\": {\"Not assigned\":\"Queen's Park\"}})\n",
    "df4"
   ]
  },
  {
   "cell_type": "code",
   "execution_count": 11,
   "metadata": {},
   "outputs": [
    {
     "data": {
      "text/html": [
       "<div>\n",
       "<style scoped>\n",
       "    .dataframe tbody tr th:only-of-type {\n",
       "        vertical-align: middle;\n",
       "    }\n",
       "\n",
       "    .dataframe tbody tr th {\n",
       "        vertical-align: top;\n",
       "    }\n",
       "\n",
       "    .dataframe thead th {\n",
       "        text-align: right;\n",
       "    }\n",
       "</style>\n",
       "<table border=\"1\" class=\"dataframe\">\n",
       "  <thead>\n",
       "    <tr style=\"text-align: right;\">\n",
       "      <th></th>\n",
       "      <th>Postcode</th>\n",
       "      <th>Borough</th>\n",
       "      <th>Neighborhood</th>\n",
       "    </tr>\n",
       "  </thead>\n",
       "  <tbody>\n",
       "    <tr>\n",
       "      <td>0</td>\n",
       "      <td>M3A</td>\n",
       "      <td>North York</td>\n",
       "      <td>Parkwoods</td>\n",
       "    </tr>\n",
       "    <tr>\n",
       "      <td>1</td>\n",
       "      <td>M4A</td>\n",
       "      <td>North York</td>\n",
       "      <td>Victoria Village</td>\n",
       "    </tr>\n",
       "    <tr>\n",
       "      <td>2</td>\n",
       "      <td>M5A</td>\n",
       "      <td>Downtown Toronto</td>\n",
       "      <td>Harbourfront</td>\n",
       "    </tr>\n",
       "    <tr>\n",
       "      <td>3</td>\n",
       "      <td>M6A</td>\n",
       "      <td>North York</td>\n",
       "      <td>Lawrence Heights,Lawrence Manor</td>\n",
       "    </tr>\n",
       "    <tr>\n",
       "      <td>4</td>\n",
       "      <td>M7A</td>\n",
       "      <td>Queen's Park</td>\n",
       "      <td>Queen's Park</td>\n",
       "    </tr>\n",
       "    <tr>\n",
       "      <td>5</td>\n",
       "      <td>M9A</td>\n",
       "      <td>Downtown Toronto</td>\n",
       "      <td>Queen's Park</td>\n",
       "    </tr>\n",
       "    <tr>\n",
       "      <td>6</td>\n",
       "      <td>M1B</td>\n",
       "      <td>Scarborough</td>\n",
       "      <td>Rouge,Malvern</td>\n",
       "    </tr>\n",
       "    <tr>\n",
       "      <td>7</td>\n",
       "      <td>M3B</td>\n",
       "      <td>North York</td>\n",
       "      <td>Don Mills North</td>\n",
       "    </tr>\n",
       "    <tr>\n",
       "      <td>8</td>\n",
       "      <td>M4B</td>\n",
       "      <td>East York</td>\n",
       "      <td>Woodbine Gardens,Parkview Hill</td>\n",
       "    </tr>\n",
       "    <tr>\n",
       "      <td>9</td>\n",
       "      <td>M5B</td>\n",
       "      <td>Downtown Toronto</td>\n",
       "      <td>Ryerson,Garden District</td>\n",
       "    </tr>\n",
       "    <tr>\n",
       "      <td>10</td>\n",
       "      <td>M6B</td>\n",
       "      <td>North York</td>\n",
       "      <td>Glencairn</td>\n",
       "    </tr>\n",
       "    <tr>\n",
       "      <td>11</td>\n",
       "      <td>M9B</td>\n",
       "      <td>Etobicoke</td>\n",
       "      <td>Cloverdale,Islington,Martin Grove,Princess Gar...</td>\n",
       "    </tr>\n",
       "  </tbody>\n",
       "</table>\n",
       "</div>"
      ],
      "text/plain": [
       "   Postcode           Borough  \\\n",
       "0       M3A        North York   \n",
       "1       M4A        North York   \n",
       "2       M5A  Downtown Toronto   \n",
       "3       M6A        North York   \n",
       "4       M7A      Queen's Park   \n",
       "5       M9A  Downtown Toronto   \n",
       "6       M1B       Scarborough   \n",
       "7       M3B        North York   \n",
       "8       M4B         East York   \n",
       "9       M5B  Downtown Toronto   \n",
       "10      M6B        North York   \n",
       "11      M9B         Etobicoke   \n",
       "\n",
       "                                         Neighborhood  \n",
       "0                                           Parkwoods  \n",
       "1                                    Victoria Village  \n",
       "2                                        Harbourfront  \n",
       "3                     Lawrence Heights,Lawrence Manor  \n",
       "4                                        Queen's Park  \n",
       "5                                        Queen's Park  \n",
       "6                                       Rouge,Malvern  \n",
       "7                                     Don Mills North  \n",
       "8                      Woodbine Gardens,Parkview Hill  \n",
       "9                             Ryerson,Garden District  \n",
       "10                                          Glencairn  \n",
       "11  Cloverdale,Islington,Martin Grove,Princess Gar...  "
      ]
     },
     "execution_count": 11,
     "metadata": {},
     "output_type": "execute_result"
    }
   ],
   "source": [
    "df4.head(12)"
   ]
  },
  {
   "cell_type": "markdown",
   "metadata": {},
   "source": [
    "### The size of the dataframe"
   ]
  },
  {
   "cell_type": "code",
   "execution_count": 12,
   "metadata": {},
   "outputs": [
    {
     "data": {
      "text/plain": [
       "(103, 3)"
      ]
     },
     "execution_count": 12,
     "metadata": {},
     "output_type": "execute_result"
    }
   ],
   "source": [
    "df4.shape"
   ]
  },
  {
   "cell_type": "markdown",
   "metadata": {},
   "source": [
    "#### I realized that the column name in Wikipedia was Postcode, not the Postal Code. \n",
    "#### I will rename the column."
   ]
  },
  {
   "cell_type": "code",
   "execution_count": 13,
   "metadata": {},
   "outputs": [],
   "source": [
    "df4.rename(columns={\"Postcode\" : \"Postal Code\"}, inplace=True)"
   ]
  },
  {
   "cell_type": "code",
   "execution_count": 14,
   "metadata": {},
   "outputs": [
    {
     "data": {
      "text/html": [
       "<div>\n",
       "<style scoped>\n",
       "    .dataframe tbody tr th:only-of-type {\n",
       "        vertical-align: middle;\n",
       "    }\n",
       "\n",
       "    .dataframe tbody tr th {\n",
       "        vertical-align: top;\n",
       "    }\n",
       "\n",
       "    .dataframe thead th {\n",
       "        text-align: right;\n",
       "    }\n",
       "</style>\n",
       "<table border=\"1\" class=\"dataframe\">\n",
       "  <thead>\n",
       "    <tr style=\"text-align: right;\">\n",
       "      <th></th>\n",
       "      <th>Postal Code</th>\n",
       "      <th>Borough</th>\n",
       "      <th>Neighborhood</th>\n",
       "    </tr>\n",
       "  </thead>\n",
       "  <tbody>\n",
       "    <tr>\n",
       "      <td>0</td>\n",
       "      <td>M3A</td>\n",
       "      <td>North York</td>\n",
       "      <td>Parkwoods</td>\n",
       "    </tr>\n",
       "    <tr>\n",
       "      <td>1</td>\n",
       "      <td>M4A</td>\n",
       "      <td>North York</td>\n",
       "      <td>Victoria Village</td>\n",
       "    </tr>\n",
       "    <tr>\n",
       "      <td>2</td>\n",
       "      <td>M5A</td>\n",
       "      <td>Downtown Toronto</td>\n",
       "      <td>Harbourfront</td>\n",
       "    </tr>\n",
       "    <tr>\n",
       "      <td>3</td>\n",
       "      <td>M6A</td>\n",
       "      <td>North York</td>\n",
       "      <td>Lawrence Heights,Lawrence Manor</td>\n",
       "    </tr>\n",
       "    <tr>\n",
       "      <td>4</td>\n",
       "      <td>M7A</td>\n",
       "      <td>Queen's Park</td>\n",
       "      <td>Queen's Park</td>\n",
       "    </tr>\n",
       "  </tbody>\n",
       "</table>\n",
       "</div>"
      ],
      "text/plain": [
       "  Postal Code           Borough                     Neighborhood\n",
       "0         M3A        North York                        Parkwoods\n",
       "1         M4A        North York                 Victoria Village\n",
       "2         M5A  Downtown Toronto                     Harbourfront\n",
       "3         M6A        North York  Lawrence Heights,Lawrence Manor\n",
       "4         M7A      Queen's Park                     Queen's Park"
      ]
     },
     "execution_count": 14,
     "metadata": {},
     "output_type": "execute_result"
    }
   ],
   "source": [
    "df4.head(5)"
   ]
  },
  {
   "cell_type": "markdown",
   "metadata": {},
   "source": [
    "## Hereafter, I merge Latitude and Longtitude to Postal Code, using csv file."
   ]
  },
  {
   "cell_type": "code",
   "execution_count": 15,
   "metadata": {},
   "outputs": [],
   "source": [
    "df5 = pd.read_csv('Geospatial_Coordinates.csv')"
   ]
  },
  {
   "cell_type": "code",
   "execution_count": 16,
   "metadata": {},
   "outputs": [
    {
     "data": {
      "text/html": [
       "<div>\n",
       "<style scoped>\n",
       "    .dataframe tbody tr th:only-of-type {\n",
       "        vertical-align: middle;\n",
       "    }\n",
       "\n",
       "    .dataframe tbody tr th {\n",
       "        vertical-align: top;\n",
       "    }\n",
       "\n",
       "    .dataframe thead th {\n",
       "        text-align: right;\n",
       "    }\n",
       "</style>\n",
       "<table border=\"1\" class=\"dataframe\">\n",
       "  <thead>\n",
       "    <tr style=\"text-align: right;\">\n",
       "      <th></th>\n",
       "      <th>Postal Code</th>\n",
       "      <th>Latitude</th>\n",
       "      <th>Longitude</th>\n",
       "    </tr>\n",
       "  </thead>\n",
       "  <tbody>\n",
       "    <tr>\n",
       "      <td>0</td>\n",
       "      <td>M1B</td>\n",
       "      <td>43.806686</td>\n",
       "      <td>-79.194353</td>\n",
       "    </tr>\n",
       "    <tr>\n",
       "      <td>1</td>\n",
       "      <td>M1C</td>\n",
       "      <td>43.784535</td>\n",
       "      <td>-79.160497</td>\n",
       "    </tr>\n",
       "    <tr>\n",
       "      <td>2</td>\n",
       "      <td>M1E</td>\n",
       "      <td>43.763573</td>\n",
       "      <td>-79.188711</td>\n",
       "    </tr>\n",
       "    <tr>\n",
       "      <td>3</td>\n",
       "      <td>M1G</td>\n",
       "      <td>43.770992</td>\n",
       "      <td>-79.216917</td>\n",
       "    </tr>\n",
       "    <tr>\n",
       "      <td>4</td>\n",
       "      <td>M1H</td>\n",
       "      <td>43.773136</td>\n",
       "      <td>-79.239476</td>\n",
       "    </tr>\n",
       "  </tbody>\n",
       "</table>\n",
       "</div>"
      ],
      "text/plain": [
       "  Postal Code   Latitude  Longitude\n",
       "0         M1B  43.806686 -79.194353\n",
       "1         M1C  43.784535 -79.160497\n",
       "2         M1E  43.763573 -79.188711\n",
       "3         M1G  43.770992 -79.216917\n",
       "4         M1H  43.773136 -79.239476"
      ]
     },
     "execution_count": 16,
     "metadata": {},
     "output_type": "execute_result"
    }
   ],
   "source": [
    "df5.head()"
   ]
  },
  {
   "cell_type": "code",
   "execution_count": 17,
   "metadata": {},
   "outputs": [
    {
     "data": {
      "text/plain": [
       "(103, 3)"
      ]
     },
     "execution_count": 17,
     "metadata": {},
     "output_type": "execute_result"
    }
   ],
   "source": [
    "df5.shape"
   ]
  },
  {
   "cell_type": "code",
   "execution_count": 18,
   "metadata": {},
   "outputs": [],
   "source": [
    "df6 = pd.merge(df4, df5, how='left', on='Postal Code')"
   ]
  },
  {
   "cell_type": "code",
   "execution_count": 19,
   "metadata": {},
   "outputs": [
    {
     "data": {
      "text/html": [
       "<div>\n",
       "<style scoped>\n",
       "    .dataframe tbody tr th:only-of-type {\n",
       "        vertical-align: middle;\n",
       "    }\n",
       "\n",
       "    .dataframe tbody tr th {\n",
       "        vertical-align: top;\n",
       "    }\n",
       "\n",
       "    .dataframe thead th {\n",
       "        text-align: right;\n",
       "    }\n",
       "</style>\n",
       "<table border=\"1\" class=\"dataframe\">\n",
       "  <thead>\n",
       "    <tr style=\"text-align: right;\">\n",
       "      <th></th>\n",
       "      <th>Postal Code</th>\n",
       "      <th>Borough</th>\n",
       "      <th>Neighborhood</th>\n",
       "      <th>Latitude</th>\n",
       "      <th>Longitude</th>\n",
       "    </tr>\n",
       "  </thead>\n",
       "  <tbody>\n",
       "    <tr>\n",
       "      <td>0</td>\n",
       "      <td>M3A</td>\n",
       "      <td>North York</td>\n",
       "      <td>Parkwoods</td>\n",
       "      <td>43.753259</td>\n",
       "      <td>-79.329656</td>\n",
       "    </tr>\n",
       "    <tr>\n",
       "      <td>1</td>\n",
       "      <td>M4A</td>\n",
       "      <td>North York</td>\n",
       "      <td>Victoria Village</td>\n",
       "      <td>43.725882</td>\n",
       "      <td>-79.315572</td>\n",
       "    </tr>\n",
       "    <tr>\n",
       "      <td>2</td>\n",
       "      <td>M5A</td>\n",
       "      <td>Downtown Toronto</td>\n",
       "      <td>Harbourfront</td>\n",
       "      <td>43.654260</td>\n",
       "      <td>-79.360636</td>\n",
       "    </tr>\n",
       "    <tr>\n",
       "      <td>3</td>\n",
       "      <td>M6A</td>\n",
       "      <td>North York</td>\n",
       "      <td>Lawrence Heights,Lawrence Manor</td>\n",
       "      <td>43.718518</td>\n",
       "      <td>-79.464763</td>\n",
       "    </tr>\n",
       "    <tr>\n",
       "      <td>4</td>\n",
       "      <td>M7A</td>\n",
       "      <td>Queen's Park</td>\n",
       "      <td>Queen's Park</td>\n",
       "      <td>43.662301</td>\n",
       "      <td>-79.389494</td>\n",
       "    </tr>\n",
       "    <tr>\n",
       "      <td>...</td>\n",
       "      <td>...</td>\n",
       "      <td>...</td>\n",
       "      <td>...</td>\n",
       "      <td>...</td>\n",
       "      <td>...</td>\n",
       "    </tr>\n",
       "    <tr>\n",
       "      <td>98</td>\n",
       "      <td>M8X</td>\n",
       "      <td>Etobicoke</td>\n",
       "      <td>The Kingsway,Montgomery Road,Old Mill North</td>\n",
       "      <td>43.653654</td>\n",
       "      <td>-79.506944</td>\n",
       "    </tr>\n",
       "    <tr>\n",
       "      <td>99</td>\n",
       "      <td>M4Y</td>\n",
       "      <td>Downtown Toronto</td>\n",
       "      <td>Church and Wellesley</td>\n",
       "      <td>43.665860</td>\n",
       "      <td>-79.383160</td>\n",
       "    </tr>\n",
       "    <tr>\n",
       "      <td>100</td>\n",
       "      <td>M7Y</td>\n",
       "      <td>East Toronto</td>\n",
       "      <td>Business Reply Mail Processing Centre 969 Eastern</td>\n",
       "      <td>43.662744</td>\n",
       "      <td>-79.321558</td>\n",
       "    </tr>\n",
       "    <tr>\n",
       "      <td>101</td>\n",
       "      <td>M8Y</td>\n",
       "      <td>Etobicoke</td>\n",
       "      <td>Humber Bay,King's Mill Park,Kingsway Park Sout...</td>\n",
       "      <td>43.636258</td>\n",
       "      <td>-79.498509</td>\n",
       "    </tr>\n",
       "    <tr>\n",
       "      <td>102</td>\n",
       "      <td>M8Z</td>\n",
       "      <td>Etobicoke</td>\n",
       "      <td>Kingsway Park South West,Mimico NW,The Queensw...</td>\n",
       "      <td>43.628841</td>\n",
       "      <td>-79.520999</td>\n",
       "    </tr>\n",
       "  </tbody>\n",
       "</table>\n",
       "<p>103 rows × 5 columns</p>\n",
       "</div>"
      ],
      "text/plain": [
       "    Postal Code           Borough  \\\n",
       "0           M3A        North York   \n",
       "1           M4A        North York   \n",
       "2           M5A  Downtown Toronto   \n",
       "3           M6A        North York   \n",
       "4           M7A      Queen's Park   \n",
       "..          ...               ...   \n",
       "98          M8X         Etobicoke   \n",
       "99          M4Y  Downtown Toronto   \n",
       "100         M7Y      East Toronto   \n",
       "101         M8Y         Etobicoke   \n",
       "102         M8Z         Etobicoke   \n",
       "\n",
       "                                          Neighborhood   Latitude  Longitude  \n",
       "0                                            Parkwoods  43.753259 -79.329656  \n",
       "1                                     Victoria Village  43.725882 -79.315572  \n",
       "2                                         Harbourfront  43.654260 -79.360636  \n",
       "3                      Lawrence Heights,Lawrence Manor  43.718518 -79.464763  \n",
       "4                                         Queen's Park  43.662301 -79.389494  \n",
       "..                                                 ...        ...        ...  \n",
       "98         The Kingsway,Montgomery Road,Old Mill North  43.653654 -79.506944  \n",
       "99                                Church and Wellesley  43.665860 -79.383160  \n",
       "100  Business Reply Mail Processing Centre 969 Eastern  43.662744 -79.321558  \n",
       "101  Humber Bay,King's Mill Park,Kingsway Park Sout...  43.636258 -79.498509  \n",
       "102  Kingsway Park South West,Mimico NW,The Queensw...  43.628841 -79.520999  \n",
       "\n",
       "[103 rows x 5 columns]"
      ]
     },
     "execution_count": 19,
     "metadata": {},
     "output_type": "execute_result"
    }
   ],
   "source": [
    "df6"
   ]
  },
  {
   "cell_type": "code",
   "execution_count": 20,
   "metadata": {},
   "outputs": [],
   "source": [
    "import numpy as np\n",
    "import pandas as pd\n",
    "\n",
    "import requests \n",
    "from pandas.io.json import json_normalize\n",
    "\n",
    "import matplotlib.cm as cm\n",
    "import matplotlib.colors as colors\n",
    "\n",
    "\n",
    "from sklearn.cluster import KMeans\n",
    "import folium\n"
   ]
  },
  {
   "cell_type": "code",
   "execution_count": 24,
   "metadata": {},
   "outputs": [
    {
     "data": {
      "text/html": [
       "<div style=\"width:100%;\"><div style=\"position:relative;width:100%;height:0;padding-bottom:60%;\"><iframe src=\"data:text/html;charset=utf-8;base64,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\" style=\"position:absolute;width:100%;height:100%;left:0;top:0;border:none !important;\" allowfullscreen webkitallowfullscreen mozallowfullscreen></iframe></div></div>"
      ],
      "text/plain": [
       "<folium.folium.Map at 0x22a7a7d8388>"
      ]
     },
     "execution_count": 24,
     "metadata": {},
     "output_type": "execute_result"
    }
   ],
   "source": [
    "map_Toronto = folium.Map(location=[43.8, -79.2], zoom_start=11)\n",
    "map_Toronto"
   ]
  },
  {
   "cell_type": "code",
   "execution_count": 25,
   "metadata": {},
   "outputs": [
    {
     "data": {
      "text/html": [
       "<div style=\"width:100%;\"><div style=\"position:relative;width:100%;height:0;padding-bottom:60%;\"><iframe src=\"data:text/html;charset=utf-8;base64,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\" style=\"position:absolute;width:100%;height:100%;left:0;top:0;border:none !important;\" allowfullscreen webkitallowfullscreen mozallowfullscreen></iframe></div></div>"
      ],
      "text/plain": [
       "<folium.folium.Map at 0x22a7a7efc88>"
      ]
     },
     "execution_count": 25,
     "metadata": {},
     "output_type": "execute_result"
    }
   ],
   "source": [
    "map_Toronto = folium.Map(location=[43.8, -79.2], zoom_start=11)\n",
    "\n",
    "for lat, lng, label in zip(df6['Latitude'], df6['Longitude'], df6['Neighborhood']):\n",
    "    label = folium.Popup(label, parse_html=True)\n",
    "    folium.CircleMarker(\n",
    "        [lat, lng],\n",
    "        radius=5,\n",
    "        popup=label,\n",
    "        color='blue',\n",
    "        fill=True,\n",
    "        fill_color='#3186cc',\n",
    "        fill_opacity=0.7,\n",
    "        parse_html=False).add_to(map_Toronto)  \n",
    "    \n",
    "map_Toronto"
   ]
  },
  {
   "cell_type": "code",
   "execution_count": 26,
   "metadata": {},
   "outputs": [
    {
     "data": {
      "text/plain": [
       "'Parkwoods'"
      ]
     },
     "execution_count": 26,
     "metadata": {},
     "output_type": "execute_result"
    }
   ],
   "source": [
    "df6.loc[0, 'Neighborhood']"
   ]
  },
  {
   "cell_type": "code",
   "execution_count": 27,
   "metadata": {},
   "outputs": [
    {
     "name": "stdout",
     "output_type": "stream",
     "text": [
      "Latitude and longitude values of Parkwoods are 43.7532586, -79.3296565.\n"
     ]
    }
   ],
   "source": [
    "neighborhood_latitude = df6.loc[0, 'Latitude'] # neighborhood latitude value\n",
    "neighborhood_longitude = df6.loc[0, 'Longitude'] # neighborhood longitude value\n",
    "\n",
    "neighborhood_name = df6.loc[0, 'Neighborhood'] # neighborhood name\n",
    "\n",
    "print('Latitude and longitude values of {} are {}, {}.'.format(neighborhood_name, \n",
    "                                                               neighborhood_latitude, \n",
    "                                                               neighborhood_longitude))"
   ]
  },
  {
   "cell_type": "code",
   "execution_count": 30,
   "metadata": {},
   "outputs": [],
   "source": [
    "def get_category_type(row):\n",
    "    try:\n",
    "        categories_list = row['categories']\n",
    "    except:\n",
    "        categories_list = row['venue.categories']\n",
    "        \n",
    "    if len(categories_list) == 0:\n",
    "        return None\n",
    "    else:\n",
    "        return categories_list[0]['name']"
   ]
  },
  {
   "cell_type": "code",
   "execution_count": 31,
   "metadata": {},
   "outputs": [],
   "source": [
    "def getNearbyVenues(names, latitudes, longitudes, radius=500):\n",
    "    \n",
    "    venues_list=[]\n",
    "    for name, lat, lng in zip(names, latitudes, longitudes):\n",
    "        print(name)\n",
    "            \n",
    "        # create the API request URL\n",
    "        url = 'https://api.foursquare.com/v2/venues/explore?&client_id={}&client_secret={}&v={}&ll={},{}&radius={}&limit={}'.format(\n",
    "            CLIENT_ID, \n",
    "            CLIENT_SECRET, \n",
    "            VERSION, \n",
    "            lat, \n",
    "            lng, \n",
    "            radius, \n",
    "            LIMIT)\n",
    "            \n",
    "        # make the GET request\n",
    "        results = requests.get(url).json()[\"response\"]['groups'][0]['items']\n",
    "        \n",
    "        # return only relevant information for each nearby venue\n",
    "        venues_list.append([(\n",
    "            name, \n",
    "            lat, \n",
    "            lng, \n",
    "            v['venue']['name'], \n",
    "            v['venue']['location']['lat'], \n",
    "            v['venue']['location']['lng'],  \n",
    "            v['venue']['categories'][0]['name']) for v in results])\n",
    "\n",
    "    nearby_venues = pd.DataFrame([item for venue_list in venues_list for item in venue_list])\n",
    "    nearby_venues.columns = ['Neighborhood', \n",
    "                  'Neighborhood Latitude', \n",
    "                  'Neighborhood Longitude', \n",
    "                  'Venue', \n",
    "                  'Venue Latitude', \n",
    "                  'Venue Longitude', \n",
    "                  'Venue Category']\n",
    "    \n",
    "    return(nearby_venues)"
   ]
  },
  {
   "cell_type": "code",
   "execution_count": 33,
   "metadata": {},
   "outputs": [
    {
     "name": "stdout",
     "output_type": "stream",
     "text": [
      "Parkwoods\n"
     ]
    },
    {
     "ename": "NameError",
     "evalue": "name 'LIMIT' is not defined",
     "output_type": "error",
     "traceback": [
      "\u001b[1;31m---------------------------------------------------------------------------\u001b[0m",
      "\u001b[1;31mNameError\u001b[0m                                 Traceback (most recent call last)",
      "\u001b[1;32m<ipython-input-33-e4d6e8021fc9>\u001b[0m in \u001b[0;36m<module>\u001b[1;34m\u001b[0m\n\u001b[0;32m      1\u001b[0m manhattan_venues = getNearbyVenues(names=df6['Neighborhood'],\n\u001b[0;32m      2\u001b[0m                                    \u001b[0mlatitudes\u001b[0m\u001b[1;33m=\u001b[0m\u001b[0mdf6\u001b[0m\u001b[1;33m[\u001b[0m\u001b[1;34m'Latitude'\u001b[0m\u001b[1;33m]\u001b[0m\u001b[1;33m,\u001b[0m\u001b[1;33m\u001b[0m\u001b[1;33m\u001b[0m\u001b[0m\n\u001b[1;32m----> 3\u001b[1;33m                                    \u001b[0mlongitudes\u001b[0m\u001b[1;33m=\u001b[0m\u001b[0mdf6\u001b[0m\u001b[1;33m[\u001b[0m\u001b[1;34m'Longitude'\u001b[0m\u001b[1;33m]\u001b[0m\u001b[1;33m\u001b[0m\u001b[1;33m\u001b[0m\u001b[0m\n\u001b[0m\u001b[0;32m      4\u001b[0m                                   )\n",
      "\u001b[1;32m<ipython-input-31-8c9a08363335>\u001b[0m in \u001b[0;36mgetNearbyVenues\u001b[1;34m(names, latitudes, longitudes, radius)\u001b[0m\n\u001b[0;32m     13\u001b[0m             \u001b[0mlng\u001b[0m\u001b[1;33m,\u001b[0m\u001b[1;33m\u001b[0m\u001b[1;33m\u001b[0m\u001b[0m\n\u001b[0;32m     14\u001b[0m             \u001b[0mradius\u001b[0m\u001b[1;33m,\u001b[0m\u001b[1;33m\u001b[0m\u001b[1;33m\u001b[0m\u001b[0m\n\u001b[1;32m---> 15\u001b[1;33m             LIMIT)\n\u001b[0m\u001b[0;32m     16\u001b[0m \u001b[1;33m\u001b[0m\u001b[0m\n\u001b[0;32m     17\u001b[0m         \u001b[1;31m# make the GET request\u001b[0m\u001b[1;33m\u001b[0m\u001b[1;33m\u001b[0m\u001b[1;33m\u001b[0m\u001b[0m\n",
      "\u001b[1;31mNameError\u001b[0m: name 'LIMIT' is not defined"
     ]
    }
   ],
   "source": [
    "manhattan_venues = getNearbyVenues(names=df6['Neighborhood'],\n",
    "                                   latitudes=df6['Latitude'],\n",
    "                                   longitudes=df6['Longitude']\n",
    "                                  )"
   ]
  },
  {
   "cell_type": "code",
   "execution_count": null,
   "metadata": {},
   "outputs": [],
   "source": []
  }
 ],
 "metadata": {
  "kernelspec": {
   "display_name": "Python 3",
   "language": "python",
   "name": "python3"
  },
  "language_info": {
   "codemirror_mode": {
    "name": "ipython",
    "version": 3
   },
   "file_extension": ".py",
   "mimetype": "text/x-python",
   "name": "python",
   "nbconvert_exporter": "python",
   "pygments_lexer": "ipython3",
   "version": "3.7.4"
  }
 },
 "nbformat": 4,
 "nbformat_minor": 2
}
